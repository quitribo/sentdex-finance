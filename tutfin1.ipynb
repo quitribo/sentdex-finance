{
 "metadata": {
  "language_info": {
   "codemirror_mode": {
    "name": "ipython",
    "version": 3
   },
   "file_extension": ".py",
   "mimetype": "text/x-python",
   "name": "python",
   "nbconvert_exporter": "python",
   "pygments_lexer": "ipython3",
   "version": "3.8.3-final"
  },
  "orig_nbformat": 2,
  "kernelspec": {
   "name": "Python 3.8.3 64-bit",
   "display_name": "Python 3.8.3 64-bit",
   "metadata": {
    "interpreter": {
     "hash": "c42fa300094e679d10a151af85d8a010376ab04a7d53d3c7258ada1eccf929b6"
    }
   }
  }
 },
 "nbformat": 4,
 "nbformat_minor": 2,
 "cells": [
  {
   "cell_type": "code",
   "execution_count": 81,
   "metadata": {},
   "outputs": [
    {
     "output_type": "stream",
     "name": "stdout",
     "text": [
      "             High    Low   Open  Close    Volume  Adj Close\nDate                                                       \n2010-06-29  5.000  3.508  3.800  4.778  93831500      4.778\n2010-06-30  6.084  4.660  5.158  4.766  85935500      4.766\n2010-07-01  5.184  4.054  5.000  4.392  41094000      4.392\n2010-07-02  4.620  3.742  4.600  3.840  25699000      3.840\n2010-07-06  4.000  3.166  4.000  3.222  34334500      3.222\n"
     ]
    }
   ],
   "source": [
    "import datetime as dt\n",
    "import matplotlib.pyplot as plt\n",
    "from matplotlib import style\n",
    "import pandas as pd\n",
    "import pandas_datareader.data as web\n",
    "\n",
    "style.use('ggplot')\n",
    "\n",
    "start = dt.datetime(2000,1,1)\n",
    "end = dt.datetime(2016,12,31)\n",
    "\n",
    "df = web.DataReader('TSLA', 'yahoo',start,end)    #reading yahoo finance\n",
    "print(df.head())\n"
   ]
  },
  {
   "cell_type": "code",
   "execution_count": 82,
   "metadata": {},
   "outputs": [
    {
     "output_type": "execute_result",
     "data": {
      "text/plain": [
       "            High   Low  Open  Close    Volume\n",
       "Date                                         \n",
       "2010-06-29  5.00  3.51  3.80   4.78  93831500\n",
       "2010-06-30  6.08  4.66  5.16   4.77  85935500\n",
       "2010-07-01  5.18  4.05  5.00   4.39  41094000\n",
       "2010-07-02  4.62  3.74  4.60   3.84  25699000\n",
       "2010-07-06  4.00  3.17  4.00   3.22  34334500"
      ],
      "text/html": "<div>\n<style scoped>\n    .dataframe tbody tr th:only-of-type {\n        vertical-align: middle;\n    }\n\n    .dataframe tbody tr th {\n        vertical-align: top;\n    }\n\n    .dataframe thead th {\n        text-align: right;\n    }\n</style>\n<table border=\"1\" class=\"dataframe\">\n  <thead>\n    <tr style=\"text-align: right;\">\n      <th></th>\n      <th>High</th>\n      <th>Low</th>\n      <th>Open</th>\n      <th>Close</th>\n      <th>Volume</th>\n    </tr>\n    <tr>\n      <th>Date</th>\n      <th></th>\n      <th></th>\n      <th></th>\n      <th></th>\n      <th></th>\n    </tr>\n  </thead>\n  <tbody>\n    <tr>\n      <th>2010-06-29</th>\n      <td>5.00</td>\n      <td>3.51</td>\n      <td>3.80</td>\n      <td>4.78</td>\n      <td>93831500</td>\n    </tr>\n    <tr>\n      <th>2010-06-30</th>\n      <td>6.08</td>\n      <td>4.66</td>\n      <td>5.16</td>\n      <td>4.77</td>\n      <td>85935500</td>\n    </tr>\n    <tr>\n      <th>2010-07-01</th>\n      <td>5.18</td>\n      <td>4.05</td>\n      <td>5.00</td>\n      <td>4.39</td>\n      <td>41094000</td>\n    </tr>\n    <tr>\n      <th>2010-07-02</th>\n      <td>4.62</td>\n      <td>3.74</td>\n      <td>4.60</td>\n      <td>3.84</td>\n      <td>25699000</td>\n    </tr>\n    <tr>\n      <th>2010-07-06</th>\n      <td>4.00</td>\n      <td>3.17</td>\n      <td>4.00</td>\n      <td>3.22</td>\n      <td>34334500</td>\n    </tr>\n  </tbody>\n</table>\n</div>"
     },
     "metadata": {},
     "execution_count": 82
    }
   ],
   "source": [
    "df.reset_index(inplace=True)\n",
    "df.set_index('Date',inplace=True)\n",
    "df.drop(['Adj Close'],axis=1,inplace=True)\n",
    "df.head().round(2)"
   ]
  },
  {
   "cell_type": "code",
   "execution_count": 83,
   "metadata": {},
   "outputs": [],
   "source": [
    "df.to_csv('TSLA.csv')"
   ]
  },
  {
   "cell_type": "code",
   "execution_count": 85,
   "metadata": {},
   "outputs": [
    {
     "output_type": "execute_result",
     "data": {
      "text/plain": [
       "             High    Low   Open  Close    Volume\n",
       "Date                                            \n",
       "2010-06-29   5.00   3.51   3.80   4.78  93831500\n",
       "2010-06-30   6.08   4.66   5.16   4.77  85935500\n",
       "2010-07-01   5.18   4.05   5.00   4.39  41094000\n",
       "2010-07-02   4.62   3.74   4.60   3.84  25699000\n",
       "2010-07-06   4.00   3.17   4.00   3.22  34334500\n",
       "...           ...    ...    ...    ...       ...\n",
       "2016-12-23  42.69  41.54  41.60  42.67  23352500\n",
       "2016-12-27  44.45  42.88  42.98  43.91  29578500\n",
       "2016-12-28  44.76  43.44  44.31  43.95  18912500\n",
       "2016-12-29  43.84  42.82  43.71  42.94  20225000\n",
       "2016-12-30  43.50  42.34  43.26  42.74  23213000\n",
       "\n",
       "[1640 rows x 5 columns]"
      ],
      "text/html": "<div>\n<style scoped>\n    .dataframe tbody tr th:only-of-type {\n        vertical-align: middle;\n    }\n\n    .dataframe tbody tr th {\n        vertical-align: top;\n    }\n\n    .dataframe thead th {\n        text-align: right;\n    }\n</style>\n<table border=\"1\" class=\"dataframe\">\n  <thead>\n    <tr style=\"text-align: right;\">\n      <th></th>\n      <th>High</th>\n      <th>Low</th>\n      <th>Open</th>\n      <th>Close</th>\n      <th>Volume</th>\n    </tr>\n    <tr>\n      <th>Date</th>\n      <th></th>\n      <th></th>\n      <th></th>\n      <th></th>\n      <th></th>\n    </tr>\n  </thead>\n  <tbody>\n    <tr>\n      <th>2010-06-29</th>\n      <td>5.00</td>\n      <td>3.51</td>\n      <td>3.80</td>\n      <td>4.78</td>\n      <td>93831500</td>\n    </tr>\n    <tr>\n      <th>2010-06-30</th>\n      <td>6.08</td>\n      <td>4.66</td>\n      <td>5.16</td>\n      <td>4.77</td>\n      <td>85935500</td>\n    </tr>\n    <tr>\n      <th>2010-07-01</th>\n      <td>5.18</td>\n      <td>4.05</td>\n      <td>5.00</td>\n      <td>4.39</td>\n      <td>41094000</td>\n    </tr>\n    <tr>\n      <th>2010-07-02</th>\n      <td>4.62</td>\n      <td>3.74</td>\n      <td>4.60</td>\n      <td>3.84</td>\n      <td>25699000</td>\n    </tr>\n    <tr>\n      <th>2010-07-06</th>\n      <td>4.00</td>\n      <td>3.17</td>\n      <td>4.00</td>\n      <td>3.22</td>\n      <td>34334500</td>\n    </tr>\n    <tr>\n      <th>...</th>\n      <td>...</td>\n      <td>...</td>\n      <td>...</td>\n      <td>...</td>\n      <td>...</td>\n    </tr>\n    <tr>\n      <th>2016-12-23</th>\n      <td>42.69</td>\n      <td>41.54</td>\n      <td>41.60</td>\n      <td>42.67</td>\n      <td>23352500</td>\n    </tr>\n    <tr>\n      <th>2016-12-27</th>\n      <td>44.45</td>\n      <td>42.88</td>\n      <td>42.98</td>\n      <td>43.91</td>\n      <td>29578500</td>\n    </tr>\n    <tr>\n      <th>2016-12-28</th>\n      <td>44.76</td>\n      <td>43.44</td>\n      <td>44.31</td>\n      <td>43.95</td>\n      <td>18912500</td>\n    </tr>\n    <tr>\n      <th>2016-12-29</th>\n      <td>43.84</td>\n      <td>42.82</td>\n      <td>43.71</td>\n      <td>42.94</td>\n      <td>20225000</td>\n    </tr>\n    <tr>\n      <th>2016-12-30</th>\n      <td>43.50</td>\n      <td>42.34</td>\n      <td>43.26</td>\n      <td>42.74</td>\n      <td>23213000</td>\n    </tr>\n  </tbody>\n</table>\n<p>1640 rows × 5 columns</p>\n</div>"
     },
     "metadata": {},
     "execution_count": 85
    }
   ],
   "source": [
    "df2 = pd.read_csv('TSLA.csv',parse_dates=True,index_col=0)\n",
    "df2.round(2)"
   ]
  },
  {
   "cell_type": "code",
   "execution_count": null,
   "metadata": {},
   "outputs": [],
   "source": []
  }
 ]
}