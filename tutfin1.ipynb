{
 "metadata": {
  "language_info": {
   "codemirror_mode": {
    "name": "ipython",
    "version": 3
   },
   "file_extension": ".py",
   "mimetype": "text/x-python",
   "name": "python",
   "nbconvert_exporter": "python",
   "pygments_lexer": "ipython3",
   "version": "3.8.3-final"
  },
  "orig_nbformat": 2,
  "kernelspec": {
   "name": "Python 3.8.3 64-bit",
   "display_name": "Python 3.8.3 64-bit",
   "metadata": {
    "interpreter": {
     "hash": "c42fa300094e679d10a151af85d8a010376ab04a7d53d3c7258ada1eccf929b6"
    }
   }
  }
 },
 "nbformat": 4,
 "nbformat_minor": 2,
 "cells": [
  {
   "cell_type": "code",
   "execution_count": 1,
   "metadata": {},
   "outputs": [
    {
     "output_type": "stream",
     "name": "stdout",
     "text": [
      "             High    Low   Open  Close    Volume  Adj Close\nDate                                                       \n2010-06-29  5.000  3.508  3.800  4.778  93831500      4.778\n2010-06-30  6.084  4.660  5.158  4.766  85935500      4.766\n2010-07-01  5.184  4.054  5.000  4.392  41094000      4.392\n2010-07-02  4.620  3.742  4.600  3.840  25699000      3.840\n2010-07-06  4.000  3.166  4.000  3.222  34334500      3.222\n"
     ]
    }
   ],
   "source": [
    "import datetime as dt\n",
    "import matplotlib.pyplot as plt\n",
    "from matplotlib import style\n",
    "import pandas as pd\n",
    "import pandas_datareader.data as web\n",
    "\n",
    "style.use('ggplot')\n",
    "\n",
    "start = dt.datetime(2000,1,1)\n",
    "end = dt.datetime(2016,12,31)\n",
    "\n",
    "df = web.DataReader('TSLA', 'yahoo',start,end)    #reading yahoo finance\n",
    "print(df.head())\n"
   ]
  }
 ]
}